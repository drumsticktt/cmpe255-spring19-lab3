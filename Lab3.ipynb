{
 "cells": [
  {
   "cell_type": "code",
   "execution_count": 3,
   "metadata": {},
   "outputs": [
    {
     "name": "stdout",
     "output_type": "stream",
     "text": [
      "::neg::neg\n",
      "::neg::neg\n",
      "::neg::neg\n",
      "::neg::neg\n",
      "::neg::pos\n",
      "::pos::pos\n",
      "::neg::neg\n",
      "::neg::neg\n",
      "::neg::neg\n",
      "::neg::neg\n",
      "Accuracy=0.800498753117207\n"
     ]
    },
    {
     "name": "stderr",
     "output_type": "stream",
     "text": [
      "c:\\users\\travis\\appdata\\local\\programs\\python\\python37-32\\lib\\site-packages\\sklearn\\model_selection\\_split.py:2179: FutureWarning: From version 0.21, test_size will always complement train_size unless both are specified.\n",
      "  FutureWarning)\n",
      "c:\\users\\travis\\appdata\\local\\programs\\python\\python37-32\\lib\\site-packages\\sklearn\\linear_model\\logistic.py:433: FutureWarning: Default solver will be changed to 'lbfgs' in 0.22. Specify a solver to silence this warning.\n",
      "  FutureWarning)\n"
     ]
    }
   ],
   "source": [
    "import sklearn\n",
    "\n",
    "data = []\n",
    "def load_data():\n",
    "    \n",
    "    data_labels = []\n",
    "    with open('pos_tweets.txt', encoding = 'utf8') as f:\n",
    "        for i in f: \n",
    "            data.append(i) \n",
    "            data_labels.append('pos')\n",
    "\n",
    "    with open('neg_tweets.txt', encoding = 'utf8') as f:\n",
    "        for i in f: \n",
    "            data.append(i)\n",
    "            data_labels.append('neg')\n",
    "\n",
    "    return data, data_labels\n",
    "\n",
    "def transform_to_features(data):\n",
    "    from sklearn.feature_extraction.text import CountVectorizer\n",
    "    vectorizer = CountVectorizer(\n",
    "        analyzer = 'word',\n",
    "        lowercase = False,\n",
    "    )\n",
    "    features = vectorizer.fit_transform(\n",
    "        data\n",
    "    )\n",
    "    features_nd = features.toarray()\n",
    "    return features_nd\n",
    "\n",
    "def train_then_build_model(data_labels, features_nd):\n",
    "    from sklearn.model_selection import train_test_split\n",
    "    # TODO : set training % to 80%.\n",
    "    X_train, X_test, y_train, y_test  = train_test_split(\n",
    "        features_nd, \n",
    "        data_labels,\n",
    "        train_size=0.80, \n",
    "        random_state=1234)\n",
    "    \n",
    "    asd, D_test, asdf, g_test  = train_test_split(\n",
    "        data, \n",
    "        data_labels,\n",
    "        train_size=0.80, \n",
    "        random_state=1234)\n",
    "\n",
    "    from sklearn.linear_model import LogisticRegression\n",
    "    log_model = LogisticRegression()\n",
    "\n",
    "    log_model = log_model.fit(X=X_train, y=y_train)\n",
    "    y_pred = log_model.predict(X_test)\n",
    "\n",
    "    # print first 10th prediction in this format:\n",
    "    for i in range(10):\n",
    "        print(\"::{0}::{1}\".format(y_pred[i], g_test[i]))\n",
    "    # \n",
    "    # TODO\n",
    "\n",
    "    \n",
    "    # print accuracy\n",
    "    from sklearn.metrics import accuracy_score\n",
    "    # TODO\n",
    "    acc = accuracy_score(y_test, y_pred, normalize=True, sample_weight=None)\n",
    "    print(\"Accuracy={}\".format(acc))\n",
    "\n",
    "def process():\n",
    "    data, data_labels = load_data()\n",
    "    features_nd = transform_to_features(data)\n",
    "    train_then_build_model(data_labels, features_nd)\n",
    "\n",
    "\n",
    "process()"
   ]
  },
  {
   "cell_type": "code",
   "execution_count": null,
   "metadata": {},
   "outputs": [],
   "source": []
  },
  {
   "cell_type": "code",
   "execution_count": null,
   "metadata": {},
   "outputs": [],
   "source": []
  },
  {
   "cell_type": "code",
   "execution_count": null,
   "metadata": {},
   "outputs": [],
   "source": []
  },
  {
   "cell_type": "code",
   "execution_count": null,
   "metadata": {},
   "outputs": [],
   "source": []
  }
 ],
 "metadata": {
  "kernelspec": {
   "display_name": "Python 3",
   "language": "python",
   "name": "python3"
  },
  "language_info": {
   "codemirror_mode": {
    "name": "ipython",
    "version": 3
   },
   "file_extension": ".py",
   "mimetype": "text/x-python",
   "name": "python",
   "nbconvert_exporter": "python",
   "pygments_lexer": "ipython3",
   "version": "3.7.2"
  }
 },
 "nbformat": 4,
 "nbformat_minor": 2
}
